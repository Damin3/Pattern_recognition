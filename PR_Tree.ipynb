{
 "cells": [
  {
   "cell_type": "code",
   "execution_count": 8,
   "id": "6dad5872",
   "metadata": {},
   "outputs": [
    {
     "name": "stdout",
     "output_type": "stream",
     "text": [
      "The cumulative index of the classifier is: 0.41783567134268534\n"
     ]
    }
   ],
   "source": [
    "#  导入所需的库和模块   age      累计指数\n",
    "import numpy as np\n",
    "from sklearn import tree\n",
    "from sklearn.tree import DecisionTreeClassifier\n",
    "from sklearn.preprocessing import StandardScaler\n",
    "from sklearn.model_selection import train_test_split\n",
    "import matplotlib.pyplot as plt # 导入matplotlib库，用于绘制图片\n",
    "\n",
    "from sklearn.metrics import mean_squared_error # 用于计算均方误差的函数\n",
    "\n",
    "# 定义累计指数函数，用于衡量分类器的预测误差\n",
    "def cumulative_index(y_true, y_pred):\n",
    "    # 计算真实年龄和预测年龄的差值的绝对值\n",
    "    diff = np.abs(y_true-y_pred)\n",
    "    # 计算累计指数，即差值的平方和除以样本数\n",
    "    ci = np.sum(diff**2) / len(diff)\n",
    "    return ci\n",
    "\n",
    "\n",
    "# 加载训练数据和标签\n",
    "train_data = np.load('trainDistance.npy')\n",
    "train_labels = np.load('DR_age_map.npy')\n",
    "\n",
    "X_train = train_data\n",
    "y_train = train_labels\n",
    "\n",
    "# 构建决策树分类器\n",
    "clf = tree.DecisionTreeClassifier(criterion=\"entropy\")\n",
    "\n",
    "# 训练分类器\n",
    "clf.fit(X_train, y_train)\n",
    "\n",
    "# 加载测试数据并\n",
    "test_data = np.load('testDistance.npy')\n",
    "test_labels = np.load('DS_age_map.npy')\n",
    "X_test =test_data\n",
    "y_test = test_labels\n",
    "\n",
    "# 使用测试数据预测决策树分类器的输出\n",
    "y_pred = clf.predict(X_test)\n",
    "\n",
    "#测试\n",
    "\n",
    "# 计算预测的累计指数\n",
    "ci = cumulative_index(y_test, y_pred)\n",
    "# 打印结果\n",
    "print(\"The cumulative index of the classifier is:\", ci)\n",
    "\n",
    "# pr_TREE_age = clf.score(X_test,y_test)\n",
    "# print('预测准确率：',pr_TREE_age)"
   ]
  },
  {
   "cell_type": "code",
   "execution_count": 22,
   "id": "401ce687",
   "metadata": {},
   "outputs": [
    {
     "name": "stdout",
     "output_type": "stream",
     "text": [
      "预测准确率： 0.7650300601202404\n"
     ]
    }
   ],
   "source": [
    "#  导入所需的库和模块   age     准确率\n",
    "import numpy as np\n",
    "from sklearn import tree\n",
    "from sklearn.tree import DecisionTreeClassifier\n",
    "from sklearn.preprocessing import StandardScaler\n",
    "from sklearn.model_selection import train_test_split\n",
    "import matplotlib.pyplot as plt # 导入matplotlib库，用于绘制图片\n",
    "\n",
    "# 加载训练数据和标签\n",
    "train_data = np.load('trainDistance.npy')\n",
    "train_labels = np.load('DR_age_map.npy')\n",
    "X_train = train_data\n",
    "y_train = train_labels\n",
    "\n",
    "# 构建决策树分类器\n",
    "clf = tree.DecisionTreeClassifier(criterion=\"entropy\")\n",
    "\n",
    "# 训练分类器\n",
    "clf.fit(X_train, y_train)\n",
    "\n",
    "# 加载测试数据并\n",
    "test_data = np.load('testDistance.npy')\n",
    "test_labels = np.load('DS_age_map.npy')\n",
    "X_test =test_data\n",
    "y_test = test_labels\n",
    "\n",
    "# 使用测试数据预测决策树分类器的输出\n",
    "y_pred = clf.predict(X_test)\n",
    "\n",
    "#测试\n",
    "pr_TREE_age = clf.score(X_test,y_test)\n",
    "print('预测准确率：',pr_TREE_age)"
   ]
  },
  {
   "cell_type": "code",
   "execution_count": 23,
   "id": "0755b3be",
   "metadata": {},
   "outputs": [
    {
     "name": "stdout",
     "output_type": "stream",
     "text": [
      "预测准确率： 0.8106212424849699\n"
     ]
    }
   ],
   "source": [
    "#  导入所需的库和模块  sex   准确率\n",
    "import numpy as np\n",
    "from sklearn import tree\n",
    "from sklearn.tree import DecisionTreeClassifier\n",
    "from sklearn.preprocessing import StandardScaler\n",
    "from sklearn.model_selection import train_test_split\n",
    "import matplotlib.pyplot as plt # 导入matplotlib库，用于绘制图片\n",
    "\n",
    "# 加载训练数据和标签\n",
    "train_data = np.load('trainDistance.npy')\n",
    "train_labels = np.load('DR_sex_map.npy')\n",
    "X_train = train_data\n",
    "y_train = train_labels\n",
    "\n",
    "# 构建决策树分类器\n",
    "clf = tree.DecisionTreeClassifier(criterion=\"entropy\")\n",
    "\n",
    "# 训练分类器\n",
    "clf.fit(X_train, y_train)\n",
    "\n",
    "# 加载测试数据并\n",
    "test_data = np.load('testDistance.npy')\n",
    "test_labels = np.load('DS_sex_map.npy')\n",
    "X_test =test_data\n",
    "y_test = test_labels\n",
    "\n",
    "# 使用测试数据预测决策树分类器的输出\n",
    "y_pred = clf.predict(X_test)\n",
    "\n",
    "#测试\n",
    "pr_TREE_sex = clf.score(X_test,y_test)\n",
    "print('预测准确率：',pr_TREE_sex)"
   ]
  },
  {
   "cell_type": "code",
   "execution_count": 26,
   "id": "058999ad",
   "metadata": {},
   "outputs": [
    {
     "name": "stdout",
     "output_type": "stream",
     "text": [
      "预测准确率： 0.8807615230460922\n"
     ]
    }
   ],
   "source": [
    "#  导入所需的库和模块   age     随机森林\n",
    "import numpy as np # 用于科学计算的 Python 库\n",
    "import pandas as pd # 用于数据分析的 Python 库\n",
    "from sklearn.ensemble import RandomForestClassifier # 用于创建随机森林分类器的类\n",
    "from sklearn.metrics import accuracy_score # 用于计算准确率的函数\n",
    "\n",
    "# 加载训练数据和标签\n",
    "train_data = np.load('trainDistance.npy')\n",
    "train_labels = np.load('DR_age_map.npy')\n",
    "X_train = train_data\n",
    "y_train = train_labels\n",
    "\n",
    "# 加载测试数据并\n",
    "test_data = np.load('testDistance.npy')\n",
    "test_labels = np.load('DS_age_map.npy')\n",
    "X_test =test_data\n",
    "y_test = test_labels\n",
    "\n",
    "# 创建随机森林分类器对象，指定准确率为衡量标准，以及其他参数\n",
    "clf = RandomForestClassifier(criterion=\"entropy\", n_estimators=100, max_depth=10, random_state=42)\n",
    "\n",
    "# 训练分类器\n",
    "clf.fit(X_train, y_train)\n",
    "\n",
    "# 预测测试集的年龄\n",
    "y_pred = clf.predict(X_test)\n",
    "\n",
    "# 计算预测的准确率\n",
    "acc = accuracy_score(y_test, y_pred)\n",
    "print('预测准确率：',acc)\n"
   ]
  },
  {
   "cell_type": "code",
   "execution_count": 28,
   "id": "cdadfadc",
   "metadata": {},
   "outputs": [
    {
     "name": "stdout",
     "output_type": "stream",
     "text": [
      "预测准确率： 0.8967935871743486\n"
     ]
    }
   ],
   "source": [
    "#  导入所需的库和模块   sex     随机森林\n",
    "import numpy as np # 用于科学计算的 Python 库\n",
    "import pandas as pd # 用于数据分析的 Python 库\n",
    "from sklearn.ensemble import RandomForestClassifier # 用于创建随机森林分类器的类\n",
    "from sklearn.metrics import accuracy_score # 用于计算准确率的函数\n",
    "\n",
    "# 加载训练数据和标签\n",
    "train_data = np.load('trainDistance.npy')\n",
    "train_labels = np.load('DR_sex_map.npy')\n",
    "X_train = train_data\n",
    "y_train = train_labels\n",
    "\n",
    "# 加载测试数据并\n",
    "test_data = np.load('testDistance.npy')\n",
    "test_labels = np.load('DS_sex_map.npy')\n",
    "X_test =test_data\n",
    "y_test = test_labels\n",
    "\n",
    "# 创建随机森林分类器对象，指定准确率为衡量标准，以及其他参数\n",
    "clf = RandomForestClassifier(criterion=\"entropy\", n_estimators=100, max_depth=10, random_state=42)\n",
    "\n",
    "# 训练分类器\n",
    "clf.fit(X_train, y_train)\n",
    "\n",
    "# 预测测试集的年龄\n",
    "y_pred = clf.predict(X_test)\n",
    "\n",
    "# 计算预测的准确率\n",
    "acc = accuracy_score(y_test, y_pred)\n",
    "print('预测准确率：',acc)\n"
   ]
  },
  {
   "cell_type": "code",
   "execution_count": null,
   "id": "ae82316d",
   "metadata": {},
   "outputs": [],
   "source": []
  }
 ],
 "metadata": {
  "kernelspec": {
   "display_name": "Python 3",
   "language": "python",
   "name": "python3"
  },
  "language_info": {
   "codemirror_mode": {
    "name": "ipython",
    "version": 3
   },
   "file_extension": ".py",
   "mimetype": "text/x-python",
   "name": "python",
   "nbconvert_exporter": "python",
   "pygments_lexer": "ipython3",
   "version": "3.8.8"
  }
 },
 "nbformat": 4,
 "nbformat_minor": 5
}
